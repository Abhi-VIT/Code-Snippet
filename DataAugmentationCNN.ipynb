{
 "cells": [
  {
   "cell_type": "code",
   "execution_count": 4,
   "id": "a036a868",
   "metadata": {},
   "outputs": [],
   "source": [
    "import tensorflow\n",
    "import keras"
   ]
  },
  {
   "cell_type": "code",
   "execution_count": 5,
   "id": "b4ce341a",
   "metadata": {},
   "outputs": [],
   "source": [
    "from tensorflow.keras import layers\n",
    "\n",
    "data_augmentation = tensorflow.keras.Sequential([\n",
    "    layers.RandomFlip(\"horizontal_and_vertical\"),  # Flip both axes\n",
    "    layers.RandomRotation(0.25),                   # Rotate up to 25%\n",
    "    layers.RandomZoom(0.3),                        # Zoom in/out\n",
    "    layers.RandomTranslation(0.2, 0.2),            # Shift images\n",
    "    layers.RandomContrast(0.3),                    # Vary contrast\n",
    "    layers.RandomBrightness(0.3),                  # Vary brightness\n",
    "    layers.RandomCrop(100, 100),                   # Crop to smaller region\n",
    "    layers.Resizing(128, 128),                     # Resize back to target\n",
    "    layers.Rescaling(1./255)                       # Normalize pixel values\n",
    "])\n",
    "\n"
   ]
  },
  {
   "cell_type": "code",
   "execution_count": null,
   "id": "db746ffd",
   "metadata": {},
   "outputs": [],
   "source": []
  }
 ],
 "metadata": {
  "kernelspec": {
   "display_name": "base",
   "language": "python",
   "name": "python3"
  },
  "language_info": {
   "codemirror_mode": {
    "name": "ipython",
    "version": 3
   },
   "file_extension": ".py",
   "mimetype": "text/x-python",
   "name": "python",
   "nbconvert_exporter": "python",
   "pygments_lexer": "ipython3",
   "version": "3.12.7"
  }
 },
 "nbformat": 4,
 "nbformat_minor": 5
}
