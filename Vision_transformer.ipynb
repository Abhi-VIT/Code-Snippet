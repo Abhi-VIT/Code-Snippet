{
 "cells": [
  {
   "cell_type": "code",
   "execution_count": 83,
   "id": "44a8d506",
   "metadata": {},
   "outputs": [
    {
     "name": "stdout",
     "output_type": "stream",
     "text": [
      "CUDA Available: True\n",
      "Current Device: 0\n",
      "Device Name: NVIDIA GeForce RTX 4050 Laptop GPU\n"
     ]
    }
   ],
   "source": [
    "import torch\n",
    "\n",
    "print(\"CUDA Available:\", torch.cuda.is_available())\n",
    "print(\"Current Device:\", torch.cuda.current_device())\n",
    "print(\"Device Name:\", torch.cuda.get_device_name(torch.cuda.current_device()))"
   ]
  },
  {
   "cell_type": "code",
   "execution_count": 84,
   "id": "a60d6722",
   "metadata": {},
   "outputs": [],
   "source": [
    "import torch \n",
    "import torch.nn as nn\n",
    "import torchvision.transforms as T\n",
    "from torch.optim import Adam\n",
    "from torchvision import datasets\n",
    "from torch.utils.data import DataLoader\n",
    "import numpy as np"
   ]
  },
  {
   "cell_type": "code",
   "execution_count": 99,
   "id": "3c9701db",
   "metadata": {},
   "outputs": [],
   "source": [
    "CIFAR10 = datasets.mnist.FashionMNIST"
   ]
  },
  {
   "cell_type": "code",
   "execution_count": 100,
   "id": "5cf7378b",
   "metadata": {},
   "outputs": [],
   "source": [
    "import torch \n",
    "import torch.nn as nn"
   ]
  },
  {
   "cell_type": "code",
   "execution_count": 101,
   "id": "ee4557eb",
   "metadata": {},
   "outputs": [],
   "source": [
    "import torchvision.transforms as T"
   ]
  },
  {
   "cell_type": "code",
   "execution_count": 102,
   "id": "8e38e188",
   "metadata": {},
   "outputs": [],
   "source": [
    "from torch.optim import Adam"
   ]
  },
  {
   "cell_type": "markdown",
   "id": "1b9d9c52",
   "metadata": {},
   "source": [
    "# **Patch Embeddings**"
   ]
  },
  {
   "cell_type": "code",
   "execution_count": 103,
   "id": "ed296ca1",
   "metadata": {},
   "outputs": [],
   "source": [
    "class PatchEmbedding(nn.Module):\n",
    "  def __init__(self, d_model, img_size, patch_size, n_channels):\n",
    "    super().__init__()\n",
    "\n",
    "    self.d_model = d_model # Dimensionality of Model\n",
    "    self.img_size = img_size # Image Size\n",
    "    self.patch_size = patch_size # Patch Size\n",
    "    self.n_channels = n_channels # Number of Channels\n",
    "\n",
    "    self.linear_project = nn.Conv2d(self.n_channels, self.d_model, kernel_size=self.patch_size, stride=self.patch_size)\n",
    "\n",
    "  # B: Batch Size\n",
    "  # C: Image Channels\n",
    "  # H: Image Height\n",
    "  # W: Image Width\n",
    "  # P_col: Patch Column\n",
    "  # P_row: Patch Row\n",
    "  def forward(self, x):\n",
    "    x = self.linear_project(x) # (B, C, H, W) -> (B, d_model, P_col, P_row)\n",
    "\n",
    "    x = x.flatten(2) # (B, d_model, P_col, P_row) -> (B, d_model, P)\n",
    "\n",
    "    x = x.transpose(1, 2) # (B, d_model, P) -> (B, P, d_model)\n",
    "    \n",
    "    return x"
   ]
  },
  {
   "cell_type": "markdown",
   "id": "ed36afd4",
   "metadata": {},
   "source": [
    "# **Class Token and Positional Encoding**"
   ]
  },
  {
   "cell_type": "code",
   "execution_count": 104,
   "id": "ed550aea",
   "metadata": {},
   "outputs": [],
   "source": [
    "class PositionalEncoding(nn.Module):\n",
    "  def __init__(self, d_model, max_seq_length):\n",
    "    super().__init__()\n",
    "\n",
    "    self.cls_token = nn.Parameter(torch.randn(1, 1, d_model)) # Classification Token\n",
    "\n",
    "    # Creating positional encoding\n",
    "    pe = torch.zeros(max_seq_length, d_model)\n",
    "\n",
    "    for pos in range(max_seq_length):\n",
    "      for i in range(d_model):\n",
    "        if i % 2 == 0:\n",
    "          pe[pos][i] = np.sin(pos/(10000 ** (i/d_model)))\n",
    "        else:\n",
    "          pe[pos][i] = np.cos(pos/(10000 ** ((i-1)/d_model)))\n",
    "\n",
    "    self.register_buffer('pe', pe.unsqueeze(0))\n",
    "\n",
    "  def forward(self, x):\n",
    "    # Expand to have class token for every image in batch\n",
    "    tokens_batch = self.cls_token.expand(x.size()[0], -1, -1)\n",
    "\n",
    "    # Adding class tokens to the beginning of each embedding\n",
    "    x = torch.cat((tokens_batch,x), dim=1)\n",
    "\n",
    "    # Add positional encoding to embeddings\n",
    "    x = x + self.pe\n",
    "\n",
    "    return x"
   ]
  },
  {
   "cell_type": "markdown",
   "id": "1b220f09",
   "metadata": {},
   "source": [
    "# **Attention head**"
   ]
  },
  {
   "cell_type": "code",
   "execution_count": 105,
   "id": "590ba525",
   "metadata": {},
   "outputs": [],
   "source": [
    "class AttentionHead(nn.Module):\n",
    "    def __init__(self, d_model, head_size):\n",
    "        super().__init__()\n",
    "        self.head_size = head_size\n",
    "        self.query = nn.Linear(d_model, head_size)\n",
    "        self.key = nn.Linear(d_model, head_size)\n",
    "        self.value = nn.Linear(d_model, head_size)\n",
    "\n",
    "    def forward(self, x):\n",
    "        Q = self.query(x)\n",
    "        K = self.key(x)\n",
    "        V = self.value(x)\n",
    "\n",
    "        # Dot Product of Queries and keys\n",
    "        attention = Q @ K.transpose(-2,-1)\n",
    "\n",
    "        # Scaling\n",
    "        attention = attention / (self.head_size ** 0.5)\n",
    "        attention = torch.softmax(attention, dim=-1)\n",
    "        attention = attention @ V\n",
    "        return attention\n",
    "\n"
   ]
  },
  {
   "cell_type": "markdown",
   "id": "daced795",
   "metadata": {},
   "source": [
    "# **Multi-head Attention**"
   ]
  },
  {
   "cell_type": "code",
   "execution_count": 106,
   "id": "5aa0fd5f",
   "metadata": {},
   "outputs": [],
   "source": [
    "class MultiHeadAttention(nn.Module):\n",
    "    def __init__(self,d_model, n_heads):\n",
    "        super().__init__()\n",
    "        self.head_size = d_model // n_heads\n",
    "        self.W_o = nn.Linear(d_model, d_model)\n",
    "        self.heads = nn.ModuleList([AttentionHead(d_model, self.head_size) for _ in range(n_heads)])\n",
    "        \n",
    "    def forward(self,x):\n",
    "        # Combine attention heads\n",
    "        out = torch.cat([head(x) for head in self.heads], dim=-1)\n",
    "        out = self.W_o(out)\n",
    "        return out"
   ]
  },
  {
   "cell_type": "code",
   "execution_count": 107,
   "id": "2832c75e",
   "metadata": {},
   "outputs": [],
   "source": [
    "class TransformerEncoder(nn.Module):\n",
    "    def __init__(self, d_model, n_heads, r_mlp= 4):\n",
    "        super().__init__()\n",
    "        self.d_model = d_model\n",
    "        self.n_heads = n_heads\n",
    "        \n",
    "        # Sub-Layer 1 Normalization\n",
    "        self.ln1 = nn.LayerNorm(d_model)\n",
    "\n",
    "        # Multi-Head Attention\n",
    "        self.mha = MultiHeadAttention(d_model, n_heads)\n",
    "\n",
    "        # Sub-Layer 2 Normalization\n",
    "        self.ln2 = nn.LayerNorm(d_model)\n",
    "\n",
    "        # Multilayer Perception\n",
    "        self.mlp = nn.Sequential(\n",
    "            nn.Linear(d_model, d_model*r_mlp), \n",
    "            nn.GELU(),\n",
    "            nn.Linear(d_model*r_mlp, d_model)\n",
    "        )\n",
    "    def forward(self, x):\n",
    "        out = x + self.mha(self.ln1(x))\n",
    "\n",
    "        out = out + self.mlp(self.ln2(out))\n",
    "\n",
    "        return out\n"
   ]
  },
  {
   "cell_type": "markdown",
   "id": "49f30361",
   "metadata": {},
   "source": [
    "# **Vision Transformer**"
   ]
  },
  {
   "cell_type": "code",
   "execution_count": 108,
   "id": "70040998",
   "metadata": {},
   "outputs": [],
   "source": [
    "class VisionTransformer(nn.Module):\n",
    "  def __init__(self, d_model, n_classes, img_size, patch_size, n_channels, n_heads, n_layers):\n",
    "    super().__init__()\n",
    "\n",
    "    assert img_size[0] % patch_size[0] == 0 and img_size[1] % patch_size[1] == 0, \"img_size dimensions must be divisible by patch_size dimensions\"\n",
    "    assert d_model % n_heads == 0, \"d_model must be divisible by n_heads\"\n",
    "\n",
    "    self.d_model = d_model # Dimensionality of model\n",
    "    self.n_classes = n_classes # Number of classes\n",
    "    self.img_size = img_size # Image size\n",
    "    self.patch_size = patch_size # Patch size\n",
    "    self.n_channels = n_channels # Number of channels\n",
    "    self.n_heads = n_heads # Number of attention heads\n",
    "\n",
    "    self.n_patches = (self.img_size[0] * self.img_size[1]) // (self.patch_size[0] * self.patch_size[1])\n",
    "    self.max_seq_length = self.n_patches + 1\n",
    "\n",
    "    self.patch_embedding = PatchEmbedding(self.d_model, self.img_size, self.patch_size, self.n_channels)\n",
    "    self.positional_encoding = PositionalEncoding( self.d_model, self.max_seq_length)\n",
    "    self.transformer_encoder = nn.Sequential(*[TransformerEncoder( self.d_model, self.n_heads) for _ in range(n_layers)])\n",
    "\n",
    "    # Classification MLP\n",
    "    self.classifier = nn.Sequential(\n",
    "        nn.Linear(self.d_model, self.n_classes),\n",
    "        nn.Softmax(dim=-1)\n",
    "    )\n",
    "\n",
    "  def forward(self, images):\n",
    "    x = self.patch_embedding(images)\n",
    "\n",
    "    x = self.positional_encoding(x)\n",
    "\n",
    "    x = self.transformer_encoder(x)\n",
    "    \n",
    "    x = self.classifier(x[:,0])\n",
    "\n",
    "    return x"
   ]
  },
  {
   "cell_type": "code",
   "execution_count": 117,
   "id": "d8cc5f98",
   "metadata": {},
   "outputs": [],
   "source": [
    "d_model = 9\n",
    "n_classes = 10\n",
    "img_size = (32,32)\n",
    "patch_size = (16,16)\n",
    "n_channels = 1\n",
    "n_heads = 3\n",
    "n_layers = 3\n",
    "batch_size = 128\n",
    "epochs = 40\n",
    "alpha = 0.005\n"
   ]
  },
  {
   "cell_type": "markdown",
   "id": "2dc4bc61",
   "metadata": {},
   "source": [
    "# **Loading the MNIST Dataset**"
   ]
  },
  {
   "cell_type": "code",
   "execution_count": 114,
   "id": "79c5ce07",
   "metadata": {},
   "outputs": [],
   "source": [
    "transform = T.Compose([\n",
    "  T.Resize(img_size),\n",
    "  T.ToTensor()\n",
    "])\n",
    "\n",
    "train_set = CIFAR10(\n",
    "  root=\"./../datasets\", train=True, download=True, transform=transform\n",
    ")\n",
    "test_set = CIFAR10(\n",
    "  root=\"./../datasets\", train=False, download=True, transform=transform\n",
    ")\n",
    "\n",
    "train_loader = DataLoader(train_set, shuffle=True, batch_size=batch_size)\n",
    "test_loader = DataLoader(test_set, shuffle=False, batch_size=batch_size)"
   ]
  },
  {
   "cell_type": "markdown",
   "id": "0b5d8c82",
   "metadata": {},
   "source": [
    "# **Training**"
   ]
  },
  {
   "cell_type": "code",
   "execution_count": 118,
   "id": "9b7eb1db",
   "metadata": {},
   "outputs": [
    {
     "name": "stdout",
     "output_type": "stream",
     "text": [
      "Using device:  cuda (NVIDIA GeForce RTX 4050 Laptop GPU)\n",
      "Epoch 1/40 loss: 1.839\n",
      "Epoch 2/40 loss: 1.777\n",
      "Epoch 3/40 loss: 1.766\n",
      "Epoch 4/40 loss: 1.784\n",
      "Epoch 5/40 loss: 1.736\n",
      "Epoch 6/40 loss: 1.733\n",
      "Epoch 7/40 loss: 1.725\n",
      "Epoch 8/40 loss: 1.724\n",
      "Epoch 9/40 loss: 1.723\n",
      "Epoch 10/40 loss: 1.717\n",
      "Epoch 11/40 loss: 1.651\n",
      "Epoch 12/40 loss: 1.639\n",
      "Epoch 13/40 loss: 1.635\n",
      "Epoch 14/40 loss: 1.638\n",
      "Epoch 15/40 loss: 1.632\n",
      "Epoch 16/40 loss: 1.627\n",
      "Epoch 17/40 loss: 1.631\n",
      "Epoch 18/40 loss: 1.628\n",
      "Epoch 19/40 loss: 1.627\n",
      "Epoch 20/40 loss: 1.626\n",
      "Epoch 21/40 loss: 1.623\n",
      "Epoch 22/40 loss: 1.623\n",
      "Epoch 23/40 loss: 1.627\n",
      "Epoch 24/40 loss: 1.618\n",
      "Epoch 25/40 loss: 1.620\n",
      "Epoch 26/40 loss: 1.623\n",
      "Epoch 27/40 loss: 1.621\n",
      "Epoch 28/40 loss: 1.621\n",
      "Epoch 29/40 loss: 1.618\n",
      "Epoch 30/40 loss: 1.621\n",
      "Epoch 31/40 loss: 1.621\n",
      "Epoch 32/40 loss: 1.619\n",
      "Epoch 33/40 loss: 1.621\n",
      "Epoch 34/40 loss: 1.622\n",
      "Epoch 35/40 loss: 1.621\n",
      "Epoch 36/40 loss: 1.620\n",
      "Epoch 37/40 loss: 1.615\n",
      "Epoch 38/40 loss: 1.616\n",
      "Epoch 39/40 loss: 1.620\n",
      "Epoch 40/40 loss: 1.620\n"
     ]
    }
   ],
   "source": [
    "device = torch.device(\"cuda\" if torch.cuda.is_available() else \"cpu\")\n",
    "print(\"Using device: \", device, f\"({torch.cuda.get_device_name(device)})\" if torch.cuda.is_available() else \"\")\n",
    "\n",
    "transformer = VisionTransformer(d_model, n_classes, img_size, patch_size, n_channels, n_heads, n_layers).to(device)\n",
    "\n",
    "optimizer = Adam(transformer.parameters(), lr=alpha)\n",
    "criterion = nn.CrossEntropyLoss()\n",
    "\n",
    "for epoch in range(epochs):\n",
    "\n",
    "  training_loss = 0.0\n",
    "  for i, data in enumerate(train_loader, 0):\n",
    "    inputs, labels = data\n",
    "    inputs, labels = inputs.to(device), labels.to(device)\n",
    "\n",
    "    optimizer.zero_grad()\n",
    "\n",
    "    outputs = transformer(inputs)\n",
    "    loss = criterion(outputs, labels)\n",
    "    loss.backward()\n",
    "    optimizer.step()\n",
    "\n",
    "    training_loss += loss.item()\n",
    "\n",
    "  print(f'Epoch {epoch + 1}/{epochs} loss: {training_loss  / len(train_loader) :.3f}')"
   ]
  },
  {
   "cell_type": "markdown",
   "id": "2e4ae70f",
   "metadata": {},
   "source": [
    "# **Testing**"
   ]
  },
  {
   "cell_type": "code",
   "execution_count": 119,
   "id": "a0060a83",
   "metadata": {},
   "outputs": [
    {
     "name": "stdout",
     "output_type": "stream",
     "text": [
      "\n",
      "Model Accuracy: 82 %\n"
     ]
    }
   ],
   "source": [
    "correct = 0\n",
    "total = 0\n",
    "\n",
    "with torch.no_grad():\n",
    "  for data in test_loader:\n",
    "    images, labels = data\n",
    "    images, labels = images.to(device), labels.to(device)\n",
    "\n",
    "    outputs = transformer(images)\n",
    "\n",
    "    _, predicted = torch.max(outputs.data, 1)\n",
    "    total += labels.size(0)\n",
    "    correct += (predicted == labels).sum().item()\n",
    "  print(f'\\nModel Accuracy: {100 * correct // total} %')"
   ]
  },
  {
   "cell_type": "code",
   "execution_count": null,
   "id": "f628adb4",
   "metadata": {},
   "outputs": [],
   "source": []
  }
 ],
 "metadata": {
  "kernelspec": {
   "display_name": "base",
   "language": "python",
   "name": "python3"
  },
  "language_info": {
   "codemirror_mode": {
    "name": "ipython",
    "version": 3
   },
   "file_extension": ".py",
   "mimetype": "text/x-python",
   "name": "python",
   "nbconvert_exporter": "python",
   "pygments_lexer": "ipython3",
   "version": "3.12.7"
  }
 },
 "nbformat": 4,
 "nbformat_minor": 5
}
