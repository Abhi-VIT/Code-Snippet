{
 "cells": [
  {
   "cell_type": "code",
   "execution_count": 2,
   "id": "5c1e037d",
   "metadata": {},
   "outputs": [],
   "source": [
    "import keras\n",
    "from keras import models, layers, datasets\n",
    "import matplotlib.pyplot as plt\n",
    "import numpy as np\n",
    "import pandas as pd\n",
    "from keras import callbacks\n",
    "import tensorflow as tf\n",
    "from keras.applications import VGG16\n",
    "from keras.models import Model\n",
    "from keras.layers import Dense, Flatten\n",
    "from keras.optimizers import Adam\n",
    "from sklearn.metrics import classification_report\n",
    "import numpy as np"
   ]
  },
  {
   "cell_type": "code",
   "execution_count": null,
   "id": "1fc158cb",
   "metadata": {},
   "outputs": [],
   "source": [
    "path = r\"define your path here\""
   ]
  },
  {
   "cell_type": "code",
   "execution_count": null,
   "id": "30a2a313",
   "metadata": {},
   "outputs": [],
   "source": [
    "train_ds = tf.keras.preprocessing.image_dataset_from_directory(\n",
    "    path, # specify the path to your dataset\n",
    "    validation_split=0.2, # split the data into 80% training and 20% validation\n",
    "    subset=\"training\", # specify that this is the training set\n",
    "    seed=123, # set a seed for reproducibility\n",
    "    image_size=(128,128), # resize images to 128x128\n",
    "    batch_size=32 # set batch size to 32\n",
    ")\n",
    "\n",
    "val_ds = tf.keras.preprocessing.image_dataset_from_directory(\n",
    "    path, # specify the path to your dataset\n",
    "    validation_split=0.2, # split the data into 80% training and 20% validation\n",
    "    subset=\"validation\", # specify that this is the validation set\n",
    "    seed=123, # set a seed for reproducibility\n",
    "    image_size=(128,128), # resize images to 128x128\n",
    "    batch_size=32 # set batch size to 32\n",
    ")"
   ]
  }
 ],
 "metadata": {
  "kernelspec": {
   "display_name": "base",
   "language": "python",
   "name": "python3"
  },
  "language_info": {
   "codemirror_mode": {
    "name": "ipython",
    "version": 3
   },
   "file_extension": ".py",
   "mimetype": "text/x-python",
   "name": "python",
   "nbconvert_exporter": "python",
   "pygments_lexer": "ipython3",
   "version": "3.12.7"
  }
 },
 "nbformat": 4,
 "nbformat_minor": 5
}
